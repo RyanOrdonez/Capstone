{
 "cells": [
  {
   "cell_type": "markdown",
   "metadata": {},
   "source": [
    "# DTSA 5510: Unsupervised Algorithms in Machine Learning\n",
    "\n",
    "## Course Overview and Quick Reference Guide\n",
    "\n",
    "This notebook serves as a comprehensive overview and quick reference guide for the key concepts, techniques, and implementations covered in this course.\n",
    "\n",
    "### Course Objectives\n",
    "- Understanding unsupervised learning principles\n",
    "- Implementing clustering algorithms\n",
    "- Applying dimensionality reduction techniques\n",
    "- Analyzing patterns in unlabeled data"
   ]
  },
  {
   "cell_type": "code",
   "execution_count": null,
   "metadata": {},
   "source": [
    "# Import common libraries\n",
    "import numpy as np\n",
    "import pandas as pd\n",
    "import matplotlib.pyplot as plt\n",
    "import seaborn as sns\n",
    "from sklearn.cluster import KMeans, DBSCAN, AgglomerativeClustering\n",
    "from sklearn.decomposition import PCA, NMF\n",
    "from sklearn.manifold import TSNE\n",
    "from sklearn.preprocessing import StandardScaler\n",
    "\n",
    "# Display settings\n",
    "%matplotlib inline\n",
    "plt.style.use('seaborn')\n",
    "np.random.seed(42)"
   ]
  },
  {
   "cell_type": "markdown",
   "metadata": {},
   "source": [
    "## Week 1: Introduction to Unsupervised Learning\n",
    "\n",
    "### Key Concepts\n",
    "- \n",
    "\n",
    "### Important Terms\n",
    "- \n",
    "\n",
    "### Code Examples"
   ]
  },
  {
   "cell_type": "code",
   "execution_count": null,
   "metadata": {},
   "source": [
    "def preprocess_data(X):\n",
    "    \"\"\"Preprocess data for unsupervised learning\"\"\"\n",
    "    scaler = StandardScaler()\n",
    "    X_scaled = scaler.fit_transform(X)\n",
    "    return X_scaled, scaler"
   ]
  },
  {
   "cell_type": "markdown",
   "metadata": {},
   "source": [
    "## Week 2: K-Means Clustering\n",
    "\n",
    "### Key Concepts\n",
    "- \n",
    "\n",
    "### Important Parameters\n",
    "- \n",
    "\n",
    "### Code Examples"
   ]
  },
  {
   "cell_type": "code",
   "execution_count": null,
   "metadata": {},
   "source": [
    "def kmeans_clustering(X, n_clusters=3):\n",
    "    \"\"\"Perform K-means clustering\"\"\"\n",
    "    kmeans = KMeans(n_clusters=n_clusters, random_state=42)\n",
    "    labels = kmeans.fit_predict(X)\n",
    "    \n",
    "    # Plot results if 2D\n",
    "    if X.shape[1] == 2:\n",
    "        plt.figure(figsize=(10, 6))\n",
    "        plt.scatter(X[:, 0], X[:, 1], c=labels, cmap='viridis')\n",
    "        plt.scatter(kmeans.cluster_centers_[:, 0], kmeans.cluster_centers_[:, 1], \n",
    "                    marker='x', s=200, linewidths=3, color='r', label='Centroids')\n",
    "        plt.title('K-means Clustering Results')\n",
    "        plt.legend()\n",
    "        plt.show()\n",
    "        \n",
    "    return labels, kmeans.cluster_centers_"
   ]
  },
  {
   "cell_type": "markdown",
   "metadata": {},
   "source": [
    "## Week 3: Hierarchical Clustering\n",
    "\n",
    "### Key Concepts\n",
    "- \n",
    "\n",
    "### Important Methods\n",
    "- \n",
    "\n",
    "### Code Examples"
   ]
  },
  {
   "cell_type": "code",
   "execution_count": null,
   "metadata": {},
   "source": [
    "def hierarchical_clustering(X, n_clusters=3):\n",
    "    \"\"\"Perform hierarchical clustering\"\"\"\n",
    "    clustering = AgglomerativeClustering(n_clusters=n_clusters)\n",
    "    labels = clustering.fit_predict(X)\n",
    "    \n",
    "    # Plot dendrogram\n",
    "    from scipy.cluster.hierarchy import dendrogram, linkage\n",
    "    plt.figure(figsize=(10, 7))\n",
    "    dendrogram(linkage(X, method='ward'))\n",
    "    plt.title('Hierarchical Clustering Dendrogram')\n",
    "    plt.xlabel('Sample Index')\n",
    "    plt.ylabel('Distance')\n",
    "    plt.show()\n",
    "    \n",
    "    return labels"
   ]
  },
  {
   "cell_type": "markdown",
   "metadata": {},
   "source": [
    "## Week 4: Density-Based Clustering\n",
    "\n",
    "### Key Concepts\n",
    "- \n",
    "\n",
    "### Important Parameters\n",
    "- \n",
    "\n",
    "### Code Examples"
   ]
  },
  {
   "cell_type": "code",
   "execution_count": null,
   "metadata": {},
   "source": [
    "def dbscan_clustering(X, eps=0.5, min_samples=5):\n",
    "    \"\"\"Perform DBSCAN clustering\"\"\"\n",
    "    dbscan = DBSCAN(eps=eps, min_samples=min_samples)\n",
    "    labels = dbscan.fit_predict(X)\n",
    "    \n",
    "    # Plot results if 2D\n",
    "    if X.shape[1] == 2:\n",
    "        plt.figure(figsize=(10, 6))\n",
    "        plt.scatter(X[:, 0], X[:, 1], c=labels, cmap='viridis')\n",
    "        plt.title('DBSCAN Clustering Results')\n",
    "        plt.show()\n",
    "        \n",
    "    return labels"
   ]
  },
  {
   "cell_type": "markdown",
   "metadata": {},
   "source": [
    "## Week 5: Principal Component Analysis\n",
    "\n",
    "### Key Concepts\n",
    "- \n",
    "\n",
    "### Important Components\n",
    "- \n",
    "\n",
    "### Code Examples"
   ]
  },
  {
   "cell_type": "code",
   "execution_count": null,
   "metadata": {},
   "source": [
    "def perform_pca(X, n_components=2):\n",
    "    \"\"\"Perform PCA dimensionality reduction\"\"\"\n",
    "    pca = PCA(n_components=n_components)\n",
    "    X_pca = pca.fit_transform(X)\n",
    "    \n",
    "    # Plot explained variance ratio\n",
    "    plt.figure(figsize=(10, 6))\n",
    "    plt.plot(np.cumsum(pca.explained_variance_ratio_))\n",
    "    plt.xlabel('Number of Components')\n",
    "    plt.ylabel('Cumulative Explained Variance Ratio')\n",
    "    plt.title('PCA Explained Variance Ratio')\n",
    "    plt.show()\n",
    "    \n",
    "    return X_pca, pca"
   ]
  },
  {
   "cell_type": "markdown",
   "metadata": {},
   "source": [
    "## Week 6: t-SNE and UMAP\n",
    "\n",
    "### Key Concepts\n",
    "- \n",
    "\n",
    "### Important Parameters\n",
    "- \n",
    "\n",
    "### Code Examples"
   ]
  },
  {
   "cell_type": "code",
   "execution_count": null,
   "metadata": {},
   "source": [
    "def perform_tsne(X, perplexity=30):\n",
    "    \"\"\"Perform t-SNE dimensionality reduction\"\"\"\n",
    "    tsne = TSNE(n_components=2, perplexity=perplexity, random_state=42)\n",
    "    X_tsne = tsne.fit_transform(X)\n",
    "    \n",
    "    # Plot results\n",
    "    plt.figure(figsize=(10, 6))\n",
    "    plt.scatter(X_tsne[:, 0], X_tsne[:, 1])\n",
    "    plt.title('t-SNE Visualization')\n",
    "    plt.show()\n",
    "    \n",
    "    return X_tsne"
   ]
  },
  {
   "cell_type": "markdown",
   "metadata": {},
   "source": [
    "## Week 7: Matrix Factorization\n",
    "\n",
    "### Key Concepts\n",
    "- \n",
    "\n",
    "### Important Methods\n",
    "- \n",
    "\n",
    "### Code Examples"
   ]
  },
  {
   "cell_type": "code",
   "execution_count": null,
   "metadata": {},
   "source": [
    "def perform_nmf(X, n_components=2):\n",
    "    \"\"\"Perform Non-negative Matrix Factorization\"\"\"\n",
    "    nmf = NMF(n_components=n_components, random_state=42)\n",
    "    W = nmf.fit_transform(X)\n",
    "    H = nmf.components_\n",
    "    \n",
    "    return W, H, nmf"
   ]
  },
  {
   "cell_type": "markdown",
   "metadata": {},
   "source": [
    "## Week 8: Advanced Topics and Applications\n",
    "\n",
    "### Key Concepts\n",
    "- \n",
    "\n",
    "### Important Applications\n",
    "- \n",
    "\n",
    "### Code Examples"
   ]
  },
  {
   "cell_type": "code",
   "execution_count": null,
   "metadata": {},
   "source": [
    "def evaluate_clustering(X, labels):\n",
    "    \"\"\"Evaluate clustering results\"\"\"\n",
    "    from sklearn.metrics import silhouette_score, calinski_harabasz_score\n",
    "    \n",
    "    metrics = {\n",
    "        'silhouette': silhouette_score(X, labels),\n",
    "        'calinski_harabasz': calinski_harabasz_score(X, labels)\n",
    "    }\n",
    "    \n",
    "    return metrics"
   ]
  },
  {
   "cell_type": "markdown",
   "metadata": {},
   "source": [
    "## Additional Resources and References\n",
    "\n",
    "### Useful Libraries\n",
    "- Scikit-learn: Machine learning algorithms\n",
    "- UMAP-learn: UMAP implementation\n",
    "- Scipy: Scientific computing\n",
    "- Yellowbrick: ML visualization\n",
    "\n",
    "### External Links\n",
    "- Course materials\n",
    "- Algorithm implementations\n",
    "- Research papers\n",
    "\n",
    "### Personal Notes\n",
    "- Key algorithms\n",
    "- Parameter selection\n",
    "- Best practices"
   ]
  }
 ],
 "metadata": {
  "kernelspec": {
   "display_name": "Python 3",
   "language": "python",
   "name": "python3"
  },
  "language_info": {
   "codemirror_mode": {
    "name": "ipython",
    "version": 3
   },
   "file_extension": ".py",
   "mimetype": "text/x-python",
   "name": "python",
   "nbconvert_exporter": "python",
   "pygments_lexer": "ipython3",
   "version": "3.8.0"
  }
 },
 "nbformat": 4,
 "nbformat_minor": 4
}
